{
 "cells": [
  {
   "cell_type": "markdown",
   "metadata": {},
   "source": [
    "### Set up"
   ]
  },
  {
   "cell_type": "code",
   "execution_count": null,
   "metadata": {
    "ExecuteTime": {
     "end_time": "2021-01-28T22:51:49.841746Z",
     "start_time": "2021-01-28T22:51:49.838396Z"
    }
   },
   "outputs": [],
   "source": [
    "import os\n",
    "import getpass \n",
    "import pandas as pd\n",
    "import glob\n",
    "import time\n",
    "import random as rand\n",
    "from azure.communication.sms import PhoneNumber\n",
    "from azure.communication.sms import SendSmsOptions\n",
    "from azure.communication.sms import SmsClient\n",
    "from tqdm import tqdm"
   ]
  },
  {
   "cell_type": "code",
   "execution_count": null,
   "metadata": {
    "ExecuteTime": {
     "end_time": "2021-01-28T22:50:23.044066Z",
     "start_time": "2021-01-28T22:50:23.030390Z"
    }
   },
   "outputs": [],
   "source": [
    "target_phone_numbers_dir = './target_phone_numbers/'\n",
    "os.makedirs(target_phone_numbers_dir, exist_ok=True)"
   ]
  },
  {
   "cell_type": "code",
   "execution_count": null,
   "metadata": {
    "ExecuteTime": {
     "end_time": "2021-01-28T22:50:23.280417Z",
     "start_time": "2021-01-28T22:50:23.265288Z"
    }
   },
   "outputs": [],
   "source": [
    "required_info_dir = './required_info/'\n",
    "os.makedirs(required_info_dir, exist_ok=True)"
   ]
  },
  {
   "cell_type": "code",
   "execution_count": null,
   "metadata": {
    "ExecuteTime": {
     "end_time": "2021-01-28T22:50:23.610248Z",
     "start_time": "2021-01-28T22:50:23.606931Z"
    }
   },
   "outputs": [],
   "source": [
    "def chunk_equal_size(lst, n):\n",
    "    for i in range(0, len(lst), n):\n",
    "        yield lst[i:i + n]"
   ]
  },
  {
   "cell_type": "code",
   "execution_count": null,
   "metadata": {
    "ExecuteTime": {
     "end_time": "2021-01-28T22:50:25.005777Z",
     "start_time": "2021-01-28T22:50:25.002130Z"
    }
   },
   "outputs": [],
   "source": [
    "def chunk_n_chunks(seq, size):\n",
    "    return (seq[i::size] for i in range(size))"
   ]
  },
  {
   "cell_type": "markdown",
   "metadata": {},
   "source": [
    "### Authentication"
   ]
  },
  {
   "cell_type": "code",
   "execution_count": null,
   "metadata": {
    "ExecuteTime": {
     "end_time": "2021-01-28T22:50:31.206852Z",
     "start_time": "2021-01-28T22:50:25.963976Z"
    }
   },
   "outputs": [],
   "source": [
    "key_name = 'COMMUNICATION_SERVICES_CONNECTION_STRING'\n",
    " \n",
    "connection_string_os_value = getpass.getpass(prompt='Please enter COMMUNICATION_SERVICES_CONNECTION_STRING:\\n')\n",
    " \n",
    "os.environ[key_name] = connection_string_os_value\n",
    " \n",
    "print(f'{key_name} environment variable has been set.')"
   ]
  },
  {
   "cell_type": "code",
   "execution_count": null,
   "metadata": {
    "ExecuteTime": {
     "end_time": "2021-01-28T22:50:32.066185Z",
     "start_time": "2021-01-28T22:50:32.061355Z"
    }
   },
   "outputs": [],
   "source": [
    "# This code demonstrates how to fetch your connection string\n",
    "# from an environment variable.\n",
    "connection_string = os.getenv('COMMUNICATION_SERVICES_CONNECTION_STRING')\n",
    "\n",
    "# Create the SmsClient object which will be used to send SMS messages\n",
    "sms_client = SmsClient.from_connection_string(connection_string)"
   ]
  },
  {
   "cell_type": "markdown",
   "metadata": {},
   "source": [
    "### Process input"
   ]
  },
  {
   "cell_type": "code",
   "execution_count": null,
   "metadata": {
    "ExecuteTime": {
     "end_time": "2021-01-28T22:50:33.007865Z",
     "start_time": "2021-01-28T22:50:32.983460Z"
    }
   },
   "outputs": [],
   "source": [
    "for file in glob.glob(f'{target_phone_numbers_dir}*.csv'):\n",
    "    input_filename = file"
   ]
  },
  {
   "cell_type": "code",
   "execution_count": null,
   "metadata": {
    "ExecuteTime": {
     "end_time": "2021-01-28T22:50:33.475171Z",
     "start_time": "2021-01-28T22:50:33.454735Z"
    }
   },
   "outputs": [],
   "source": [
    "input_data = pd.read_csv(input_filename)"
   ]
  },
  {
   "cell_type": "code",
   "execution_count": null,
   "metadata": {
    "ExecuteTime": {
     "end_time": "2021-01-28T22:50:33.758223Z",
     "start_time": "2021-01-28T22:50:33.754991Z"
    }
   },
   "outputs": [],
   "source": [
    "phone_numbers = list(input_data[list(input_data)[0]])"
   ]
  },
  {
   "cell_type": "code",
   "execution_count": null,
   "metadata": {
    "ExecuteTime": {
     "end_time": "2021-01-28T22:50:33.992849Z",
     "start_time": "2021-01-28T22:50:33.989692Z"
    }
   },
   "outputs": [],
   "source": [
    "for index in range(len(phone_numbers)):\n",
    "    phone_numbers[index] = str(phone_numbers[index])\n",
    "    if phone_numbers[index][:2] != '+1':\n",
    "        phone_numbers[index] = '+1' + phone_numbers[index]"
   ]
  },
  {
   "cell_type": "code",
   "execution_count": null,
   "metadata": {
    "ExecuteTime": {
     "end_time": "2021-01-28T22:50:34.511516Z",
     "start_time": "2021-01-28T22:50:34.327712Z"
    }
   },
   "outputs": [],
   "source": [
    "with open(f'{required_info_dir}leased_numbers.txt','r') as file:\n",
    "    leased_numbers = file.readlines()\n",
    "for index in range(len(leased_numbers)):\n",
    "    leased_numbers[index] = leased_numbers[index].lstrip().rstrip()\n",
    "    if leased_numbers[index][:2] != '+1':\n",
    "        leased_numbers[index] = '+1' + leased_numbers[index]"
   ]
  },
  {
   "cell_type": "code",
   "execution_count": null,
   "metadata": {
    "ExecuteTime": {
     "end_time": "2021-01-28T22:50:34.730261Z",
     "start_time": "2021-01-28T22:50:34.677198Z"
    }
   },
   "outputs": [],
   "source": [
    "with open(f'{required_info_dir}message.txt','r') as file:\n",
    "    messagelines = file.readlines()\n",
    "message = ' '.join(messagelines).replace('\\n','')"
   ]
  },
  {
   "cell_type": "markdown",
   "metadata": {},
   "source": [
    "### Send Message"
   ]
  },
  {
   "cell_type": "code",
   "execution_count": null,
   "metadata": {
    "ExecuteTime": {
     "end_time": "2021-01-28T22:34:47.827936Z",
     "start_time": "2021-01-28T22:34:47.825300Z"
    },
    "deletable": false,
    "editable": false,
    "run_control": {
     "frozen": true
    }
   },
   "outputs": [],
   "source": [
    "leased_numbers_chunk = list(chunk_equal_size(phone_numbers, 1))"
   ]
  },
  {
   "cell_type": "code",
   "execution_count": null,
   "metadata": {
    "ExecuteTime": {
     "end_time": "2021-01-28T22:34:48.179870Z",
     "start_time": "2021-01-28T22:34:48.177334Z"
    },
    "deletable": false,
    "editable": false,
    "run_control": {
     "frozen": true
    }
   },
   "outputs": [],
   "source": [
    "leased_numbers_chunk_redistributed = list(chunk_n_chunks(leased_numbers_chunk, len(leased_numbers)))"
   ]
  },
  {
   "cell_type": "code",
   "execution_count": null,
   "metadata": {
    "ExecuteTime": {
     "end_time": "2021-01-28T22:50:36.210572Z",
     "start_time": "2021-01-28T22:50:36.207947Z"
    }
   },
   "outputs": [],
   "source": [
    "leased_numbers_chunk_redistributed = list(chunk_n_chunks(phone_numbers, len(leased_numbers)))"
   ]
  },
  {
   "cell_type": "code",
   "execution_count": null,
   "metadata": {
    "ExecuteTime": {
     "end_time": "2021-01-28T22:50:37.099732Z",
     "start_time": "2021-01-28T22:50:37.096741Z"
    }
   },
   "outputs": [],
   "source": [
    "number_dict = {}\n",
    "index = 0\n",
    "for origin_number in leased_numbers:\n",
    "    number_dict[origin_number] = leased_numbers_chunk_redistributed[index]\n",
    "    index+=1"
   ]
  },
  {
   "cell_type": "code",
   "execution_count": null,
   "metadata": {
    "ExecuteTime": {
     "end_time": "2021-01-28T22:52:16.398834Z",
     "start_time": "2021-01-28T22:52:04.452707Z"
    }
   },
   "outputs": [],
   "source": [
    "for origin_number in number_dict:\n",
    "    for dest_number in tqdm(number_dict[origin_number]):\n",
    "        sms_response = sms_client.send(\n",
    "            from_phone_number=PhoneNumber(origin_number),\n",
    "            to_phone_numbers=[PhoneNumber(dest_number)],\n",
    "            message=message,\n",
    "            send_sms_options=SendSmsOptions(enable_delivery_report=True))"
   ]
  },
  {
   "cell_type": "code",
   "execution_count": null,
   "metadata": {
    "ExecuteTime": {
     "end_time": "2021-01-28T22:53:19.502253Z",
     "start_time": "2021-01-28T22:53:19.498145Z"
    }
   },
   "outputs": [],
   "source": [
    "sms_response.validate"
   ]
  },
  {
   "cell_type": "code",
   "execution_count": null,
   "metadata": {
    "ExecuteTime": {
     "end_time": "2021-01-28T22:40:12.140201Z",
     "start_time": "2021-01-28T22:39:19.657040Z"
    },
    "deletable": false,
    "editable": false,
    "run_control": {
     "frozen": true
    }
   },
   "outputs": [],
   "source": [
    "for origin_number in number_dict:\n",
    "    for dest_number_chunks in number_dict[origin_number]:\n",
    "        dest_number_chunks_phone = []\n",
    "        for dest_number in dest_number_chunks:\n",
    "            dest_number_chunks_phone.append(PhoneNumber(dest_number))\n",
    "        sms_response = sms_client.send(\n",
    "                from_phone_number=PhoneNumber(origin_number),\n",
    "                to_phone_numbers=dest_number_chunks_phone,\n",
    "                message=message,\n",
    "            send_sms_options=SendSmsOptions(enable_delivery_report=True))\n",
    "        time.sleep(rand.randint(1,3))"
   ]
  }
 ],
 "metadata": {
  "kernelspec": {
   "display_name": "hzfairlearn",
   "language": "python",
   "name": "hzfairlearn"
  },
  "language_info": {
   "codemirror_mode": {
    "name": "ipython",
    "version": 3
   },
   "file_extension": ".py",
   "mimetype": "text/x-python",
   "name": "python",
   "nbconvert_exporter": "python",
   "pygments_lexer": "ipython3",
   "version": "3.6.10"
  },
  "toc": {
   "base_numbering": 1,
   "nav_menu": {},
   "number_sections": true,
   "sideBar": true,
   "skip_h1_title": false,
   "title_cell": "Table of Contents",
   "title_sidebar": "Contents",
   "toc_cell": false,
   "toc_position": {},
   "toc_section_display": true,
   "toc_window_display": false
  }
 },
 "nbformat": 4,
 "nbformat_minor": 4
}
