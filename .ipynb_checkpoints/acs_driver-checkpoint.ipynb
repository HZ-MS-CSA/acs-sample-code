{
 "cells": [
  {
   "cell_type": "markdown",
   "metadata": {},
   "source": [
    "Note\n",
    "\n",
    "For **target_phone_number** folder (to be created automatically), please upload any csv file into this directory. The first column will be used as target phone numbers\n",
    "\n",
    "For **required_info** folder (to be created automatically), two text files are required:\n",
    "\n",
    "- leased_numbers.txt (Each line contains **1** leased number from ACS)\n",
    "- message.txt (Messages can be on different lines. All lines in this text file will be collected and sent out as one message)"
   ]
  },
  {
   "cell_type": "markdown",
   "metadata": {},
   "source": [
    "The program will equally distribute all target numbers across available leased numbers. Message will be sent out one after another with random sleeping period of 1-3 seconds. \n",
    "\n",
    "Batch processing codes are commented out for future iterations."
   ]
  },
  {
   "cell_type": "markdown",
   "metadata": {},
   "source": [
    "1. Pass an argument to remove/archive any files user uploaded\n",
    "2. Add pip instruction\n",
    "3. Add audit trail/summary report"
   ]
  },
  {
   "cell_type": "markdown",
   "metadata": {},
   "source": [
    "### Set up"
   ]
  },
  {
   "cell_type": "code",
   "execution_count": null,
   "metadata": {
    "ExecuteTime": {
     "end_time": "2021-01-29T00:04:18.222499Z",
     "start_time": "2021-01-29T00:04:18.218747Z"
    }
   },
   "outputs": [],
   "source": [
    "import os\n",
    "import getpass \n",
    "import pandas as pd\n",
    "import glob\n",
    "import time\n",
    "import random as rand\n",
    "import json\n",
    "from azure.communication.sms import PhoneNumber\n",
    "from azure.communication.sms import SendSmsOptions\n",
    "from azure.communication.sms import SmsClient\n",
    "from tqdm import tqdm"
   ]
  },
  {
   "cell_type": "code",
   "execution_count": null,
   "metadata": {
    "ExecuteTime": {
     "end_time": "2021-01-28T23:39:10.428755Z",
     "start_time": "2021-01-28T23:39:10.413968Z"
    }
   },
   "outputs": [],
   "source": [
    "target_phone_numbers_dir = './target_phone_numbers/'\n",
    "os.makedirs(target_phone_numbers_dir, exist_ok=True)"
   ]
  },
  {
   "cell_type": "code",
   "execution_count": null,
   "metadata": {
    "ExecuteTime": {
     "end_time": "2021-01-28T23:39:10.657754Z",
     "start_time": "2021-01-28T23:39:10.430231Z"
    }
   },
   "outputs": [],
   "source": [
    "required_info_dir = './required_info/'\n",
    "os.makedirs(required_info_dir, exist_ok=True)"
   ]
  },
  {
   "cell_type": "code",
   "execution_count": null,
   "metadata": {
    "ExecuteTime": {
     "end_time": "2021-01-28T23:39:10.662401Z",
     "start_time": "2021-01-28T23:39:10.659252Z"
    }
   },
   "outputs": [],
   "source": [
    "def chunk_equal_size(lst, n):\n",
    "    for i in range(0, len(lst), n):\n",
    "        yield lst[i:i + n]"
   ]
  },
  {
   "cell_type": "code",
   "execution_count": null,
   "metadata": {
    "ExecuteTime": {
     "end_time": "2021-01-28T23:39:10.688356Z",
     "start_time": "2021-01-28T23:39:10.664247Z"
    }
   },
   "outputs": [],
   "source": [
    "def chunk_n_chunks(seq, size):\n",
    "    return (seq[i::size] for i in range(size))"
   ]
  },
  {
   "cell_type": "markdown",
   "metadata": {},
   "source": [
    "### Authentication"
   ]
  },
  {
   "cell_type": "code",
   "execution_count": null,
   "metadata": {
    "ExecuteTime": {
     "end_time": "2021-01-29T00:14:34.527362Z",
     "start_time": "2021-01-29T00:14:24.935012Z"
    }
   },
   "outputs": [],
   "source": [
    "key_name = 'COMMUNICATION_SERVICES_CONNECTION_STRING'\n",
    " \n",
    "connection_string_os_value = getpass.getpass(prompt='Please enter COMMUNICATION_SERVICES_CONNECTION_STRING:\\n')\n",
    " \n",
    "os.environ[key_name] = connection_string_os_value\n",
    " \n",
    "print(f'{key_name} environment variable has been set.')"
   ]
  },
  {
   "cell_type": "code",
   "execution_count": null,
   "metadata": {
    "ExecuteTime": {
     "end_time": "2021-01-28T23:39:18.877173Z",
     "start_time": "2021-01-28T23:39:18.871433Z"
    }
   },
   "outputs": [],
   "source": [
    "# This code demonstrates how to fetch your connection string\n",
    "# from an environment variable.\n",
    "connection_string = os.getenv('COMMUNICATION_SERVICES_CONNECTION_STRING')\n",
    "\n",
    "# Create the SmsClient object which will be used to send SMS messages\n",
    "sms_client = SmsClient.from_connection_string(connection_string)"
   ]
  },
  {
   "cell_type": "markdown",
   "metadata": {},
   "source": [
    "### Process input"
   ]
  },
  {
   "cell_type": "code",
   "execution_count": null,
   "metadata": {
    "ExecuteTime": {
     "end_time": "2021-01-28T23:39:18.940926Z",
     "start_time": "2021-01-28T23:39:18.880076Z"
    }
   },
   "outputs": [],
   "source": [
    "for file in glob.glob(f'{target_phone_numbers_dir}*.csv'):\n",
    "    input_filename = file"
   ]
  },
  {
   "cell_type": "code",
   "execution_count": null,
   "metadata": {
    "ExecuteTime": {
     "end_time": "2021-01-28T23:39:18.966372Z",
     "start_time": "2021-01-28T23:39:18.942797Z"
    }
   },
   "outputs": [],
   "source": [
    "input_data = pd.read_csv(input_filename)"
   ]
  },
  {
   "cell_type": "code",
   "execution_count": null,
   "metadata": {
    "ExecuteTime": {
     "end_time": "2021-01-28T23:39:18.984026Z",
     "start_time": "2021-01-28T23:39:18.968127Z"
    }
   },
   "outputs": [],
   "source": [
    "phone_numbers = list(input_data[list(input_data)[0]])"
   ]
  },
  {
   "cell_type": "code",
   "execution_count": null,
   "metadata": {
    "ExecuteTime": {
     "end_time": "2021-01-28T23:39:19.039110Z",
     "start_time": "2021-01-28T23:39:18.985620Z"
    }
   },
   "outputs": [],
   "source": [
    "for index in range(len(phone_numbers)):\n",
    "    phone_numbers[index] = str(phone_numbers[index])\n",
    "    if phone_numbers[index][:2] != '+1':\n",
    "        phone_numbers[index] = '+1' + phone_numbers[index]\n",
    "    phone_numbers[index] = phone_numbers[index].replace('-','')\n",
    "    phone_numbers[index] = phone_numbers[index].replace(' ','')"
   ]
  },
  {
   "cell_type": "code",
   "execution_count": null,
   "metadata": {
    "ExecuteTime": {
     "end_time": "2021-01-28T23:39:19.108253Z",
     "start_time": "2021-01-28T23:39:19.040756Z"
    }
   },
   "outputs": [],
   "source": [
    "with open(f'{required_info_dir}leased_numbers.txt','r') as file:\n",
    "    leased_numbers = file.readlines()\n",
    "for index in range(len(leased_numbers)):\n",
    "    leased_numbers[index] = leased_numbers[index].lstrip().rstrip()\n",
    "    if leased_numbers[index][:2] != '+1':\n",
    "        leased_numbers[index] = '+1' + leased_numbers[index]"
   ]
  },
  {
   "cell_type": "code",
   "execution_count": null,
   "metadata": {
    "ExecuteTime": {
     "end_time": "2021-01-28T23:39:19.141825Z",
     "start_time": "2021-01-28T23:39:19.109743Z"
    }
   },
   "outputs": [],
   "source": [
    "with open(f'{required_info_dir}message.txt','r') as file:\n",
    "    messagelines = file.readlines()\n",
    "message = ' '.join(messagelines).replace('\\n','')"
   ]
  },
  {
   "cell_type": "markdown",
   "metadata": {},
   "source": [
    "### Send Message"
   ]
  },
  {
   "cell_type": "code",
   "execution_count": null,
   "metadata": {
    "ExecuteTime": {
     "end_time": "2021-01-28T23:39:23.758403Z",
     "start_time": "2021-01-28T23:39:23.756230Z"
    }
   },
   "outputs": [],
   "source": [
    "# NOT TO BE EXECUTED. RESERVED FOR BATCH PROCESSING\n",
    "# leased_numbers_chunk = list(chunk_equal_size(phone_numbers, 1))\n",
    "# leased_numbers_chunk_redistributed = list(chunk_n_chunks(leased_numbers_chunk, len(leased_numbers)))"
   ]
  },
  {
   "cell_type": "code",
   "execution_count": null,
   "metadata": {
    "ExecuteTime": {
     "end_time": "2021-01-28T23:39:26.343039Z",
     "start_time": "2021-01-28T23:39:26.338991Z"
    }
   },
   "outputs": [],
   "source": [
    "leased_numbers_chunk_redistributed = list(chunk_n_chunks(phone_numbers, len(leased_numbers)))"
   ]
  },
  {
   "cell_type": "code",
   "execution_count": null,
   "metadata": {
    "ExecuteTime": {
     "end_time": "2021-01-28T23:39:26.731952Z",
     "start_time": "2021-01-28T23:39:26.728878Z"
    }
   },
   "outputs": [],
   "source": [
    "number_dict = {}\n",
    "index = 0\n",
    "for origin_number in leased_numbers:\n",
    "    number_dict[origin_number] = leased_numbers_chunk_redistributed[index]\n",
    "    index+=1"
   ]
  },
  {
   "cell_type": "code",
   "execution_count": null,
   "metadata": {
    "ExecuteTime": {
     "end_time": "2021-01-28T23:40:48.523163Z",
     "start_time": "2021-01-28T23:40:48.510562Z"
    }
   },
   "outputs": [],
   "source": [
    "problematic_numbers = []\n",
    "successful_numbers = []\n",
    "for origin_number in tqdm(number_dict):\n",
    "    for dest_number in tqdm(number_dict[origin_number]):\n",
    "        try:\n",
    "            sms_response = sms_client.send(\n",
    "                from_phone_number=PhoneNumber(origin_number),\n",
    "                to_phone_numbers=[PhoneNumber(dest_number)],\n",
    "                message=message,\n",
    "                send_sms_options=SendSmsOptions(enable_delivery_report=True))\n",
    "            successful_numbers.append(dest_number)\n",
    "        except Exception:\n",
    "            problematic_number.append(dest_number)\n",
    "        time.sleep(rand.randint(1,3))"
   ]
  },
  {
   "cell_type": "code",
   "execution_count": null,
   "metadata": {
    "ExecuteTime": {
     "end_time": "2021-01-28T22:40:12.140201Z",
     "start_time": "2021-01-28T22:39:19.657040Z"
    }
   },
   "outputs": [],
   "source": [
    "# NOT TO BE EXECUTED. RESERVED FOR BATCH PROCESSING\n",
    "# for origin_number in number_dict:\n",
    "#     for dest_number_chunks in number_dict[origin_number]:\n",
    "#         dest_number_chunks_phone = []\n",
    "#         for dest_number in dest_number_chunks:\n",
    "#             dest_number_chunks_phone.append(PhoneNumber(dest_number))\n",
    "#         sms_response = sms_client.send(\n",
    "#                 from_phone_number=PhoneNumber(origin_number),\n",
    "#                 to_phone_numbers=dest_number_chunks_phone,\n",
    "#                 message=message,\n",
    "#             send_sms_options=SendSmsOptions(enable_delivery_report=True))\n",
    "#         time.sleep(rand.randint(1,3))"
   ]
  },
  {
   "cell_type": "markdown",
   "metadata": {},
   "source": [
    "### Clean up"
   ]
  },
  {
   "cell_type": "code",
   "execution_count": null,
   "metadata": {
    "ExecuteTime": {
     "end_time": "2021-01-29T00:17:31.564431Z",
     "start_time": "2021-01-29T00:17:31.530685Z"
    }
   },
   "outputs": [],
   "source": [
    "archive_dir = './archive/'\n",
    "os.makedirs(archive_dir, exist_ok=True)"
   ]
  },
  {
   "cell_type": "code",
   "execution_count": null,
   "metadata": {
    "ExecuteTime": {
     "end_time": "2021-01-29T00:20:02.748508Z",
     "start_time": "2021-01-29T00:20:02.742971Z"
    }
   },
   "outputs": [],
   "source": [
    "input_filename.replace('./target_phone_numbers/',archive_dir)"
   ]
  },
  {
   "cell_type": "code",
   "execution_count": null,
   "metadata": {
    "ExecuteTime": {
     "end_time": "2021-01-29T00:20:25.256487Z",
     "start_time": "2021-01-29T00:20:24.658080Z"
    }
   },
   "outputs": [],
   "source": [
    "os.rename(input_filename,input_filename.replace('./target_phone_numbers/',archive_dir))\n",
    "os.rename(f'{required_info_dir}leased_numbers.txt',f'{archive_dir}leased_numbers.txt')\n",
    "os.rename(f'{required_info_dir}message.txt',f'{archive_dir}message.txt')"
   ]
  },
  {
   "cell_type": "code",
   "execution_count": null,
   "metadata": {
    "ExecuteTime": {
     "end_time": "2021-01-29T00:20:37.880361Z",
     "start_time": "2021-01-29T00:20:37.877507Z"
    }
   },
   "outputs": [],
   "source": [
    "summary = {\n",
    "    'Message': message,\n",
    "    'Successful Sent Numbers': successful_numbers,\n",
    "    'Failed Numbers': problematic_numbers\n",
    "}"
   ]
  },
  {
   "cell_type": "code",
   "execution_count": null,
   "metadata": {
    "ExecuteTime": {
     "end_time": "2021-01-29T00:20:39.046247Z",
     "start_time": "2021-01-29T00:20:39.003072Z"
    }
   },
   "outputs": [],
   "source": [
    "output_dir = './output/'\n",
    "os.makedirs(output_dir, exist_ok=True)"
   ]
  },
  {
   "cell_type": "code",
   "execution_count": null,
   "metadata": {
    "ExecuteTime": {
     "end_time": "2021-01-29T00:20:39.614177Z",
     "start_time": "2021-01-29T00:20:39.542818Z"
    }
   },
   "outputs": [],
   "source": [
    "with open(f\"{output_dir}summary.txt\",'a') as file:\n",
    "    file.write(json.dumps(summary)+'\\n')"
   ]
  },
  {
   "cell_type": "code",
   "execution_count": null,
   "metadata": {},
   "outputs": [],
   "source": []
  }
 ],
 "metadata": {
  "kernelspec": {
   "display_name": "hzfairlearn",
   "language": "python",
   "name": "hzfairlearn"
  },
  "language_info": {
   "codemirror_mode": {
    "name": "ipython",
    "version": 3
   },
   "file_extension": ".py",
   "mimetype": "text/x-python",
   "name": "python",
   "nbconvert_exporter": "python",
   "pygments_lexer": "ipython3",
   "version": "3.6.10"
  },
  "toc": {
   "base_numbering": 1,
   "nav_menu": {},
   "number_sections": true,
   "sideBar": true,
   "skip_h1_title": false,
   "title_cell": "Table of Contents",
   "title_sidebar": "Contents",
   "toc_cell": false,
   "toc_position": {},
   "toc_section_display": true,
   "toc_window_display": false
  }
 },
 "nbformat": 4,
 "nbformat_minor": 4
}
